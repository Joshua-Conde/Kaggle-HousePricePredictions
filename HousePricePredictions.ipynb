{
 "cells": [
  {
   "cell_type": "markdown",
   "id": "d1cda0eb-3f31-46f9-ac1e-610d111845a2",
   "metadata": {},
   "source": [
    "# Data Preprocessing"
   ]
  },
  {
   "cell_type": "code",
   "execution_count": null,
   "id": "bf854758-5a4a-4618-8472-ac7ea489f98d",
   "metadata": {},
   "outputs": [],
   "source": [
    "# !pip install pycaret\n",
    "# !pip install catboost xgboost optuna\n",
    "\n",
    "# !pip install --force-reinstall threadpoolctl \n",
    "# ^ This WORKED in fixing the \"knn_impute()\" - related error"
   ]
  },
  {
   "cell_type": "code",
   "execution_count": null,
   "id": "9bb1e849-f51f-4d1d-b10e-784ddd4a77e9",
   "metadata": {},
   "outputs": [],
   "source": [
    "import numpy as np \n",
    "import pandas as pd \n",
    "pd.options.display.max_columns = 500 \n",
    "pd.options.display.max_rows = 10\n",
    "\n",
    "import matplotlib.pyplot as plt\n",
    "import seaborn as sns\n",
    "sns.set_style('darkgrid') \n",
    "\n",
    "from sklearn.neighbors import KNeighborsRegressor \n",
    "import scipy.stats\n",
    "from sklearn.preprocessing import StandardScaler \n",
    "from pycaret.regression import setup, compare_models \n",
    "from sklearn.model_selection import GridSearchCV, KFold, cross_val_score \n",
    "from sklearn.metrics import mean_squared_error\n",
    "from catboost import CatBoostRegressor\n",
    "from sklearn.linear_model import BayesianRidge, HuberRegressor\n",
    "from lightgbm import LGBMRegressor\n",
    "from sklearn.ensemble import GradientBoostingRegressor, ExtraTreesRegressor\n",
    "from xgboost import XGBRegressor"
   ]
  },
  {
   "cell_type": "code",
   "execution_count": null,
   "id": "aa1b9ec6-dd96-4c4d-8d0b-0c1a76640646",
   "metadata": {},
   "outputs": [],
   "source": [
    "train0 = pd.read_csv('/Users/joshuaconde/GitHub-REPOSITORIES/Kaggle-HousePricePredictions/HousePricePredictions/train.csv')\n",
    "test0 = pd.read_csv('/Users/joshuaconde/GitHub-REPOSITORIES/Kaggle-HousePricePredictions/HousePricePredictions/test.csv')\n",
    "\n",
    "sample_submission = pd.read_csv('/Users/joshuaconde/GitHub-REPOSITORIES/Kaggle-HousePricePredictions/HousePricePredictions/sample_submission.csv')"
   ]
  },
  {
   "cell_type": "code",
   "execution_count": null,
   "id": "f79a8029-ae5c-4806-9add-9fe083f6c42f",
   "metadata": {},
   "outputs": [],
   "source": [
    "train0"
   ]
  },
  {
   "cell_type": "code",
   "execution_count": null,
   "id": "82b20c6b-e7fb-45d2-a003-438a6817b1cb",
   "metadata": {},
   "outputs": [],
   "source": [
    "test0"
   ]
  },
  {
   "cell_type": "code",
   "execution_count": null,
   "id": "54292cbb-0e8b-4a3a-a858-c6f5cb8bd4f2",
   "metadata": {},
   "outputs": [],
   "source": [
    "sample_submission"
   ]
  },
  {
   "cell_type": "markdown",
   "id": "0ed7e5db-ab9f-4e2b-9462-71f961533ed1",
   "metadata": {},
   "source": [
    "## 1. DataFrame Combination"
   ]
  },
  {
   "cell_type": "code",
   "execution_count": null,
   "id": "6f7c4cc9-c0d7-4a0f-9c7b-23e5db2fab6a",
   "metadata": {},
   "outputs": [],
   "source": [
    "target = train0['SalePrice']\n",
    "test_ids = test0['Id']\n",
    "\n",
    "train1 = train0.drop(['Id', 'SalePrice'], axis=1) \n",
    "test1 = test0.drop('Id', axis=1)\n",
    "\n",
    "data0 = pd.concat([train1, test1], axis=0).reset_index(drop=True)\n",
    "\n",
    "data0"
   ]
  },
  {
   "cell_type": "markdown",
   "id": "d58cf8a7-0000-43ec-9cc4-9753763252d4",
   "metadata": {},
   "source": [
    "## 2. Data Cleaning"
   ]
  },
  {
   "cell_type": "code",
   "execution_count": null,
   "id": "30287cf5-2b87-46d9-81b1-c5f2c75b46cf",
   "metadata": {},
   "outputs": [],
   "source": [
    "data1 = data0.copy()"
   ]
  },
  {
   "cell_type": "markdown",
   "id": "273b5b50-cd85-46b5-a9d5-0824341bfb0b",
   "metadata": {},
   "source": [
    "### 2A. Ensure Proper Data Types"
   ]
  },
  {
   "cell_type": "code",
   "execution_count": null,
   "id": "264af133-b71c-4d12-be01-8d6a00660853",
   "metadata": {},
   "outputs": [],
   "source": [
    "data1['MSSubClass'] = data1['MSSubClass'].astype(str) "
   ]
  },
  {
   "cell_type": "markdown",
   "id": "7b72de79-2618-4100-a447-20e9a41b3e2d",
   "metadata": {},
   "source": [
    "### 2B. Fill Ordinal AND Regular Categorical Missing Values"
   ]
  },
  {
   "cell_type": "code",
   "execution_count": null,
   "id": "025d536f-931d-4397-a695-e2dde2f6ef26",
   "metadata": {},
   "outputs": [],
   "source": [
    "for column in [\n",
    "    'Alley',\n",
    "    'BsmtQual',\n",
    "    'BsmtCond',\n",
    "    'BsmtExposure',\n",
    "    'BsmtFinType1',\n",
    "    'BsmtFinType2',\n",
    "    'FireplaceQu',\n",
    "    'GarageType',\n",
    "    'GarageFinish',\n",
    "    'GarageQual',\n",
    "    'GarageCond',\n",
    "    'PoolQC',\n",
    "    'Fence',\n",
    "    'MiscFeature'\n",
    "]: data1[column] = data1[column].fillna(\"N\")\n",
    "\n",
    "for column in [\n",
    "    'MSZoning',\n",
    "    'Utilities',\n",
    "    'Exterior1st',\n",
    "    'Exterior2nd',\n",
    "    'MasVnrType',\n",
    "    'Electrical',\n",
    "    'KitchenQual',\n",
    "    'Functional',\n",
    "    'SaleType'\n",
    "]: data1[column] = data1[column].fillna(data1[column].mode()[0])"
   ]
  },
  {
   "cell_type": "markdown",
   "id": "23b54467-95ea-4561-b3bd-9fc1af6eac16",
   "metadata": {},
   "source": [
    "### 2C. Fill Numeric Missing Values"
   ]
  },
  {
   "cell_type": "code",
   "execution_count": null,
   "id": "6aae63d8-5384-4b58-9f17-38fcf08571a6",
   "metadata": {},
   "outputs": [],
   "source": [
    "def knn_impute(df, na_target):\n",
    "    df = df.copy()\n",
    "    \n",
    "    numeric_df = df.select_dtypes(np.number) \n",
    "    non_na_columns = numeric_df.loc[ : , numeric_df.isna().sum() == 0].columns \n",
    "    \n",
    "    X_train = numeric_df.loc[numeric_df[na_target].isna() == False, non_na_columns]\n",
    "    y_train = numeric_df.loc[numeric_df[na_target].isna() == False, na_target]\n",
    "   \n",
    "    X_test = numeric_df.loc[numeric_df[na_target].isna() == True, non_na_columns]\n",
    "    \n",
    "    knn = KNeighborsRegressor()\n",
    "    knn.fit(X_train, y_train)\n",
    "    \n",
    "    y_pred = knn.predict(X_test)\n",
    "    \n",
    "    df.loc[df[na_target].isna() == True, na_target] = y_pred\n",
    "    \n",
    "    return df"
   ]
  },
  {
   "cell_type": "code",
   "execution_count": null,
   "id": "7415177d-ffd1-4ecd-9bea-e099a4954194",
   "metadata": {},
   "outputs": [],
   "source": [
    "for column in [\n",
    "    'LotFrontage',\n",
    "    'MasVnrArea',\n",
    "    'BsmtFinSF1',\n",
    "    'BsmtFinSF2',\n",
    "    'BsmtUnfSF',\n",
    "    'TotalBsmtSF',\n",
    "    'BsmtFullBath',\n",
    "    'BsmtHalfBath',\n",
    "    'GarageYrBlt',\n",
    "    'GarageCars',\n",
    "    'GarageArea'\n",
    "]: data1 = knn_impute(data1, column)"
   ]
  },
  {
   "cell_type": "code",
   "execution_count": null,
   "id": "e93cc1cb-aac0-4f8a-bc3e-fa1028577162",
   "metadata": {},
   "outputs": [],
   "source": [
    "data1.isna().sum()"
   ]
  },
  {
   "cell_type": "markdown",
   "id": "5bf2d841-4c68-4cd5-9e74-fbd467267700",
   "metadata": {},
   "source": [
    "## 3. Feature Engineering"
   ]
  },
  {
   "cell_type": "code",
   "execution_count": null,
   "id": "0d2911ad-cb11-43e0-a3e1-e7124109ac9c",
   "metadata": {},
   "outputs": [],
   "source": [
    "data2 = data1.copy()\n",
    "\n",
    "data2[\"SqFtPerRoom\"] = ( data2[\"GrLivArea\"] / (data2[\"TotRmsAbvGrd\"] +\n",
    "                         data2[\"FullBath\"] +\n",
    "                         data2[\"HalfBath\"] +\n",
    "                         data2[\"KitchenAbvGr\"]) )\n",
    "\n",
    "data2['Total_Home_Quality'] = data1['OverallQual'] + data1['OverallCond']\n",
    "\n",
    "data2['Total_Bathrooms'] = (data2['FullBath'] + (0.5 * data2['HalfBath']) +\n",
    "                            data2['BsmtFullBath'] + (0.5 * data2['BsmtHalfBath']))\n",
    "\n",
    "data2[\"HighQualSF\"] = data2[\"1stFlrSF\"] + data2[\"2ndFlrSF\"]\n",
    "\n",
    "data2.columns"
   ]
  },
  {
   "cell_type": "markdown",
   "id": "6d077031-41a0-406a-a343-2ae8b02d363c",
   "metadata": {},
   "source": [
    "## 4. Feature Transformations -> .log1p()"
   ]
  },
  {
   "cell_type": "markdown",
   "id": "452f4a2d-f7f2-4bc5-a7fe-b476243c71e4",
   "metadata": {},
   "source": [
    "### 4A. Log Transform(ation) for Skewed Features"
   ]
  },
  {
   "cell_type": "code",
   "execution_count": null,
   "id": "9d3bbda9-a35f-476b-bcd7-431bc0d979f9",
   "metadata": {},
   "outputs": [],
   "source": [
    "data3 = data2.copy()\n",
    "\n",
    "skewed_df = pd.DataFrame(data3.select_dtypes(np.number).columns, columns=['Feature'])\n",
    "skewed_df['Skew'] = skewed_df['Feature'].apply(lambda feature: scipy.stats.skew(data3[feature]))\n",
    "skewed_df['Absolute Skew'] = skewed_df['Skew'].apply(abs)\n",
    "skewed_df['Skewed'] = skewed_df['Absolute Skew'].apply(lambda x: True if x >= 0.5 else False) \n",
    "\n",
    "skewed_df"
   ]
  },
  {
   "cell_type": "code",
   "execution_count": null,
   "id": "82719cea-22ec-4b32-a12b-0d03843b0eae",
   "metadata": {},
   "outputs": [],
   "source": [
    "for column in skewed_df.query(\"Skewed == True\")['Feature'].values:\n",
    "    data3[column] = np.log1p(data3[column])"
   ]
  },
  {
   "cell_type": "markdown",
   "id": "8d24d5a4-048a-487f-aeed-dce2b77de753",
   "metadata": {},
   "source": [
    "### 4B. Cosine Transform(ation) for Cyclical Features"
   ]
  },
  {
   "cell_type": "code",
   "execution_count": null,
   "id": "9d78a0a5-09c7-4c84-86d7-187b6562331d",
   "metadata": {},
   "outputs": [],
   "source": [
    "data2['MoSold'] = (-np.cos(0.5236 * data3['MoSold']))\n",
    "\n",
    "data2['MoSold']"
   ]
  },
  {
   "cell_type": "markdown",
   "id": "dc726f6b-9343-4b68-ac0f-1138df928d85",
   "metadata": {},
   "source": [
    "## 5. Categorical Encoding"
   ]
  },
  {
   "cell_type": "code",
   "execution_count": null,
   "id": "77fdffa0-ebe2-4daf-806e-1f93bff20772",
   "metadata": {},
   "outputs": [],
   "source": [
    "data4 = data3.copy()\n",
    "\n",
    "data4 = pd.get_dummies(data4)\n",
    "\n",
    "data4 "
   ]
  },
  {
   "cell_type": "markdown",
   "id": "94ee45a8-f112-4e19-bd72-4b84f4067cfb",
   "metadata": {},
   "source": [
    "## 6. Numeric Scaling"
   ]
  },
  {
   "cell_type": "code",
   "execution_count": null,
   "id": "c4719dab-2417-4242-9bc0-a1dbab3b26ff",
   "metadata": {},
   "outputs": [],
   "source": [
    "data5 = data4.copy()\n",
    "\n",
    "scaler = StandardScaler()\n",
    "scaler.fit(data5)\n",
    "\n",
    "data5 = pd.DataFrame(scaler.transform(data5), index=data5.index, columns=data5.columns)\n",
    "\n",
    "data5"
   ]
  },
  {
   "cell_type": "markdown",
   "id": "d159a668-8c9c-48e8-a5fe-c59bfe7fd381",
   "metadata": {},
   "source": [
    "## 7. Target Transformation -> .log()"
   ]
  },
  {
   "cell_type": "code",
   "execution_count": null,
   "id": "98caaaf4-507c-4464-a8d0-c599732fab08",
   "metadata": {},
   "outputs": [],
   "source": [
    "plt.figure(figsize=(20, 10))\n",
    "\n",
    "plt.subplot(1, 2, 1)\n",
    "sns.distplot(target, kde=True, fit=scipy.stats.norm)\n",
    "plt.title(\"Without Log Transform\")\n",
    "\n",
    "plt.subplot(1, 2, 2)\n",
    "sns.distplot(np.log(target), kde=True, fit=scipy.stats.norm)\n",
    "plt.xlabel(\"Log SalePrice\")\n",
    "plt.title(\"With Log Transform\")\n",
    "\n",
    "plt.show()"
   ]
  },
  {
   "cell_type": "code",
   "execution_count": null,
   "id": "7402cbe6-0038-4d5a-be37-658ccf7f9d86",
   "metadata": {},
   "outputs": [],
   "source": [
    "log_target = np.log(target)"
   ]
  },
  {
   "cell_type": "markdown",
   "id": "b99346ab-cebd-44aa-b418-27c08b44e277",
   "metadata": {},
   "source": [
    "## 8. Data Splitting"
   ]
  },
  {
   "cell_type": "code",
   "execution_count": null,
   "id": "a92fe551-4233-4069-9f8f-2a59e17d866c",
   "metadata": {},
   "outputs": [],
   "source": [
    "train_final = data5.loc[:train0.index.max(), :].copy()\n",
    "test_final = data5.loc[train0.index.max() + 1:, :].reset_index(drop=True).copy()"
   ]
  },
  {
   "cell_type": "code",
   "execution_count": null,
   "id": "6be893fd-a256-4b28-92e1-da82001ffe9e",
   "metadata": {},
   "outputs": [],
   "source": [
    "train_final"
   ]
  },
  {
   "cell_type": "code",
   "execution_count": null,
   "id": "9a25f7c1-f32b-4164-ac64-535ae4a19e5f",
   "metadata": {},
   "outputs": [],
   "source": [
    "test_final"
   ]
  },
  {
   "cell_type": "markdown",
   "id": "d0ba76a6-3c35-449a-9922-2e32683a2a0b",
   "metadata": {},
   "source": [
    "# Building an Ensemble Model using \"Bagging\" (Bootstrap Aggregation)"
   ]
  },
  {
   "cell_type": "code",
   "execution_count": null,
   "id": "53c5c7e3-55b0-497b-b40e-65710c0b7d38",
   "metadata": {
    "jp-MarkdownHeadingCollapsed": true
   },
   "outputs": [],
   "source": [
    "catboost_params = {\n",
    "    'iterations': 6000,\n",
    "    'learning_rate': 0.005,\n",
    "    'depth': 4,\n",
    "    'l2_leaf_reg': 1,\n",
    "    'eval_metric':'RMSE',\n",
    "    'early_stopping_rounds': 200,\n",
    "    'random_seed': 42\n",
    "}\n",
    "\n",
    "br_params = {\n",
    "    'n_iter': 304,\n",
    "    'tol': 0.16864712769300896,\n",
    "    'alpha_1': 5.589616542154059e-07,\n",
    "    'alpha_2': 9.799343618469923,\n",
    "    'lambda_1': 1.7735725582463822,\n",
    "    'lambda_2': 3.616928181181732e-06\n",
    "}\n",
    "\n",
    "lightgbm_params = {\n",
    "    'num_leaves': 39,\n",
    "    'max_depth': 2,\n",
    "    'learning_rate': 0.13705339989856127,\n",
    "    'n_estimators': 273,\n",
    "}\n",
    "\n",
    "\"\"\"\n",
    "gbr_params = {\n",
    "    'loss': 'absolute_error',\n",
    "    'learning_rate': 0.11054616145386358,\n",
    "    'n_estimators': 266,\n",
    "    'subsample': 0.5902941839375372,\n",
    "    'criterion': 'friedman_mse',\n",
    "    'min_samples_split': 20,\n",
    "    'min_samples_leaf': 10,\n",
    "    'min_weight_fraction_leaf': 0.0175323040448155,\n",
    "    'max_depth': 10,\n",
    "    'min_impurity_decrease': 0.06678068552552889,\n",
    "    'init': 'zero',\n",
    "    'random_state': 2022,\n",
    "    'max_features': 'sqrt',\n",
    "    'alpha': 0.23585140032470903,\n",
    "    'verbose': 2,\n",
    "    'max_leaf_nodes': 15,\n",
    "    'warm_start': False,\n",
    "    'validation_fraction': 0.21488662066191244,\n",
    "    'n_iter_no_change': 8,\n",
    "    'tol': 0.0005401308587534491,\n",
    "    'ccp_alpha': 0.00151895861887127\n",
    "}\n",
    "\n",
    "et_params = {\n",
    "    'n_estimators': 531,\n",
    "    'criterion': 'friedman_mse',\n",
    "    'max_depth': 20,\n",
    "    'min_samples_split': 3,\n",
    "    'min_samples_leaf': 20,\n",
    "    'min_weight_fraction_leaf': 0.09315416304656772,\n",
    "    'max_features': 'sqrt',\n",
    "    'max_leaf_nodes': 88,\n",
    "    'min_impurity_decrease': 0.41028883629550056,\n",
    "    'bootstrap': True,\n",
    "    'oob_score': True,\n",
    "    'n_jobs': -1,\n",
    "    'random_state': 2022,\n",
    "    'verbose': 1,\n",
    "    'warm_start': True,\n",
    "    'ccp_alpha': 0.0023371871861925567,\n",
    "    'max_samples': 0.13295442632197021\n",
    "}\n",
    "\"\"\""
   ]
  },
  {
   "cell_type": "code",
   "execution_count": null,
   "id": "b9157ba0-bf51-4b1f-8a5f-718cab4fbc34",
   "metadata": {
    "jp-MarkdownHeadingCollapsed": true
   },
   "outputs": [],
   "source": [
    "\"\"\"\n",
    "catboost_param_grid = {\n",
    "    'learning_rate': [0.01, 0.05, 0.1],\n",
    "    'depth': [4, 6, 8],\n",
    "    'l2_leaf_reg': [1, 3, 5, 7, 9],\n",
    "    'iterations': [500, 1000, 1500],\n",
    "    'random_strength': [0.1, 0.5, 1],\n",
    "    'bagging_temperature': [0.5, 1, 1.5],\n",
    "    'border_count': [32, 64, 128],\n",
    "    'subsample': [0.5, 0.8, 1],\n",
    "    'grow_policy': ['SymmetricTree', 'Depthwise', 'Lossguide'],\n",
    "    'loss_function': ['RMSE', 'MAE', 'Quantile:alpha=0.95']\n",
    "}\n",
    "\n",
    "bayesian_ridge_param_grid = {\n",
    "    'n_iter': [100, 300, 500],\n",
    "    'tol': [1e-3, 1e-4, 1e-5],\n",
    "    'alpha_1': [1e-6, 1e-7, 1e-8],\n",
    "    'alpha_2': [1e-6, 1e-7, 1e-8],\n",
    "    'lambda_1': [1e-6, 1e-7, 1e-8],\n",
    "    'lambda_2': [1e-6, 1e-7, 1e-8]\n",
    "}\n",
    "\n",
    "lgbm_param_grid = {\n",
    "    'learning_rate': [0.01, 0.05, 0.1],\n",
    "    'num_leaves': [31, 63, 127],\n",
    "    'max_depth': [4, 6, 8],\n",
    "    'min_child_samples': [20, 50, 100],\n",
    "    'subsample': [0.5, 0.8, 1],\n",
    "    'colsample_bytree': [0.5, 0.8, 1]\n",
    "}\n",
    "\"\"\"\n",
    "\n",
    "gradient_boosting_param_grid = {\n",
    "    'learning_rate': [0.01, 0.05, 0.1],\n",
    "    'n_estimators': [100, 200, 300],\n",
    "    'max_depth': [3, 4, 5],\n",
    "    'min_samples_split': [2, 5, 10],\n",
    "    'min_samples_leaf': [1, 2, 4],\n",
    "    'subsample': [0.5, 0.8, 1],\n",
    "    'max_features': ['auto', 'sqrt', 'log2']\n",
    "}\n",
    "\n",
    "extra_trees_param_grid = {\n",
    "    'n_estimators': [100, 200, 300],\n",
    "    'max_depth': [None, 10, 20],\n",
    "    'min_samples_split': [2, 5, 10],\n",
    "    'min_samples_leaf': [1, 2, 4],\n",
    "    'max_features': ['auto', 'sqrt', 'log2']\n",
    "}"
   ]
  },
  {
   "cell_type": "code",
   "execution_count": null,
   "id": "0a128359-edfc-46e4-81b3-fc026ec51061",
   "metadata": {
    "jp-MarkdownHeadingCollapsed": true
   },
   "outputs": [],
   "source": [
    "kf = KFold(n_splits=10)\n",
    "\n",
    "ms = {\n",
    "    \"catboost\": CatBoostRegressor(**catboost_params),\n",
    "    \"br\": BayesianRidge(**br_params),\n",
    "    \"lightgbm\": LGBMRegressor(**lightgbm_params),\n",
    "}\n",
    "\n",
    "for name, m in ms.items():\n",
    "    m.fit(train_final, log_target)\n",
    "    print(name + \" trained\")\n",
    "\n",
    "\"\"\"\n",
    "# Define rs\n",
    "rs = {}\n",
    "\n",
    "for name, m in ms.items():\n",
    "    r = np.exp(np.sqrt(-cross_val_score(m, train_final, log_target, scoring='neg_mean_squared_error', cv=kf)))\n",
    "    rs[name] = r\n",
    "\n",
    "print(rs)\n",
    "\n",
    "# Evaluate rs\n",
    "for name, r in rs.items():\n",
    "    print(\"----------\\n\" + name)\n",
    "    print(np.mean(r))\n",
    "    print(np.std(r))\n",
    "\"\"\""
   ]
  },
  {
   "cell_type": "code",
   "execution_count": null,
   "id": "82d23da0-ba30-4332-9ba0-924019f64273",
   "metadata": {
    "jp-MarkdownHeadingCollapsed": true
   },
   "outputs": [],
   "source": [
    "\"\"\" ^^^\n",
    "[RESULTS; cv = 10]:\n",
    "----------\n",
    "catboost - (#1)\n",
    "1.122340304394616\n",
    "0.019942095909698854\n",
    "----------\n",
    "br - (#3)\n",
    "1.1351015144106285\n",
    "0.02565664199126963\n",
    "----------\n",
    "lightgbm - (#2)\n",
    "1.1323401113019387\n",
    "0.022377581009135113\n",
    "\"\"\"\n",
    "\n",
    "kf = KFold(n_splits=5)\n",
    "\n",
    "models = [\n",
    "    ('GradientBoosting', GradientBoostingRegressor(), gradient_boosting_param_grid),\n",
    "    ('ExtraTrees', ExtraTreesRegressor(), extra_trees_param_grid)\n",
    "]\n",
    "\n",
    "results = {}\n",
    "\n",
    "for name, model, param_grid in models:\n",
    "    print(f\"Running GridSearchCV for {name}...\")\n",
    "    grid_search = GridSearchCV(estimator=model, param_grid=param_grid, cv=kf, scoring='neg_mean_squared_error', n_jobs=-1)\n",
    "    grid_search.fit(train_final, log_target)\n",
    "    \n",
    "    y_pred = np.exp(grid_search.predict(train_final))\n",
    "    y_true = np.exp(log_target)\n",
    "    \n",
    "    rmse_score = np.sqrt(mean_squared_error(y_true, y_pred))\n",
    "    \n",
    "    best_params = grid_search.best_params_\n",
    "    best_score = grid_search.best_score_\n",
    "    \n",
    "    print(f\"Best params for {name}: {best_params}\")\n",
    "    print(f\"Best RMSE score for {name}: {best_score}\")\n",
    "    print(f\"RMSE score on training data for {name}: {rmse_score}\\n\")\n",
    "\n",
    "    rmse_scores = np.exp(np.sqrt(-cross_val_score(model, train_final, log_target, scoring='neg_mean_squared_error', cv=kf)))\n",
    "    results[name] = rmse_scores"
   ]
  },
  {
   "cell_type": "code",
   "execution_count": null,
   "id": "3f470281-5cd8-4a2e-a3a1-da82477ee942",
   "metadata": {
    "jp-MarkdownHeadingCollapsed": true
   },
   "outputs": [],
   "source": [
    "\"\"\" ^^^\n",
    "[RESULTS; cv = 3]: \n",
    "Best params for GradientBoosting: {'learning_rate': 0.05, 'max_depth': 4, 'max_features': 'sqrt', 'min_samples_leaf': 1, 'min_samples_split': 5, 'n_estimators': 300, 'subsample': 1}\n",
    "\n",
    "Best RMSE score for GradientBoosting: -0.014732626317137123\n",
    "RMSE score on training data for GradientBoosting: 11524.806061580774\n",
    "\n",
    "Best RMSE score for ExtraTrees: -0.021956603868079138\n",
    "RMSE score on training data for ExtraTrees: 1.1290949852996799e-08\n",
    "\"\"\"\n",
    "\n",
    "\"\"\" ^^^\n",
    "[RESULTS; cv = 5]:\n",
    "Best params for ExtraTrees: {'max_depth': None, 'max_features': 'sqrt', 'min_samples_leaf': 1, 'min_samples_split': 2, 'n_estimators': 300}\n",
    "\n",
    "Best RMSE score for GradientBoosting: -0.014181648421777618\n",
    "RMSE score on training data for GradientBoosting: 12051.717705119197\n",
    "\n",
    "Best RMSE score for ExtraTrees: -0.021397126017031944\n",
    "RMSE score on training data for ExtraTrees: 1.1290949852996799e-08\n",
    "\"\"\"\n",
    "\n",
    "for name, scores in results.items():\n",
    "    print(f\"Model: {name}\")\n",
    "    print(f\"RMSE scores: {scores}\")\n",
    "    print(f\"Mean RMSE: {np.mean(scores)}\")\n",
    "    print(f\"Standard Deviation of RMSE: {np.std(scores)}\")"
   ]
  },
  {
   "cell_type": "code",
   "execution_count": null,
   "id": "958d006e-dcac-41ee-a461-472b1e649f0e",
   "metadata": {
    "jp-MarkdownHeadingCollapsed": true
   },
   "outputs": [],
   "source": [
    "\"\"\" ^^^\n",
    "[RESULTS; cv = 5]:\n",
    "Model: GradientBoosting\n",
    "RMSE scores: [1.12752062 1.15025893 1.14513066 1.12399715 1.13833037]\n",
    "Mean RMSE: 1.1370475473530295\n",
    "Standard Deviation of RMSE: 0.010025948679718477\n",
    "\"\"\"\n",
    "\n",
    "\"\"\" ^^^\n",
    "Model: ExtraTrees\n",
    "RMSE scores: [1.12584935 1.1645177  1.16647413 1.12917204 1.14595987]\n",
    "Mean RMSE: 1.146394619350057\n",
    "Standard Deviation of RMSE: 0.017032598649793843\n",
    "\"\"\"\n",
    "\n",
    "from sklearn.ensemble import GradientBoostingRegressor, ExtraTreesRegressor\n",
    "\n",
    "gb_params = {\n",
    "    'learning_rate': 0.05,\n",
    "    'max_depth': 4,\n",
    "    'max_features': 'sqrt',\n",
    "    'min_samples_leaf': 1,\n",
    "    'min_samples_split': 5,\n",
    "    'n_estimators': 300,\n",
    "    'subsample': 1\n",
    "}\n",
    "\n",
    "et_params = {\n",
    "    'max_depth': None,\n",
    "    'max_features': 'sqrt',\n",
    "    'min_samples_leaf': 1,\n",
    "    'min_samples_split': 2,\n",
    "    'n_estimators': 300\n",
    "}\n",
    "\n",
    "best_gb_model = GradientBoostingRegressor(**gb_params)\n",
    "best_et_model = ExtraTreesRegressor(**et_params)\n",
    "\n",
    "best_gb_model.fit(train_final, log_target)\n",
    "best_et_model.fit(train_final, log_target)"
   ]
  },
  {
   "cell_type": "markdown",
   "id": "9379f80c-5586-405e-93b3-5a9443896587",
   "metadata": {},
   "source": [
    "## Prediction(s) Submission(s)"
   ]
  },
  {
   "cell_type": "code",
   "execution_count": null,
   "id": "175aae30-027a-4d15-a028-2f464f1a5844",
   "metadata": {},
   "outputs": [],
   "source": [
    "final_predictions = (\n",
    "    0.4 * np.exp(ms['catboost'].predict(test_final)) +\n",
    "    0.2 * np.exp(ms['br'].predict(test_final)) +\n",
    "    0.2 * np.exp(ms['lightgbm'].predict(test_final)) +\n",
    "    0.1 * np.exp(best_gb_model.predict(test_final)) +  \n",
    "    0.1 * np.exp(best_et_model.predict(test_final))    \n",
    ")\n",
    "\n",
    "final_predictions"
   ]
  },
  {
   "cell_type": "code",
   "execution_count": null,
   "id": "51458f24-bc70-49ac-998c-91fe3f336781",
   "metadata": {},
   "outputs": [],
   "source": [
    "submission = pd.concat([test_ids, pd.Series(final_predictions, name='SalePrice')], axis=1)\n",
    "\n",
    "submission.to_csv('./submission.csv', index=False, header=True)\n",
    "\n",
    "submission"
   ]
  },
  {
   "cell_type": "code",
   "execution_count": null,
   "id": "1f4024d2-f7b7-4187-8d01-963008066705",
   "metadata": {},
   "outputs": [],
   "source": [
    "\"\"\"\n",
    "Submission #1. Score: 0.12312\n",
    "Submission #2. Score: 0.12813\n",
    "Submission #3. Score: 0.13826\n",
    "Submission #4. Score: 0.12272 \n",
    "Submission #5. Score: 0.12154 (BEST SCORE; LEADERBOARD POSITION: 282)\n",
    "\"\"\""
   ]
  }
 ],
 "metadata": {
  "kernelspec": {
   "display_name": "Python 3 (ipykernel)",
   "language": "python",
   "name": "python3"
  },
  "language_info": {
   "codemirror_mode": {
    "name": "ipython",
    "version": 3
   },
   "file_extension": ".py",
   "mimetype": "text/x-python",
   "name": "python",
   "nbconvert_exporter": "python",
   "pygments_lexer": "ipython3",
   "version": "3.11.7"
  }
 },
 "nbformat": 4,
 "nbformat_minor": 5
}
